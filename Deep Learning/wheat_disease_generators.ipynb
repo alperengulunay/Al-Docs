{
 "cells": [
  {
   "cell_type": "code",
   "execution_count": 4,
   "metadata": {
    "colab": {
     "base_uri": "https://localhost:8080/"
    },
    "id": "tgkVQPnL4L2B",
    "outputId": "0472c409-bb2e-4382-fc90-04a951aa751a",
    "scrolled": true
   },
   "outputs": [],
   "source": [
    "#!pip install tensorflow-addons\n",
    "import os\n",
    "\n",
    "import pandas as pd\n",
    "import numpy as np\n",
    "import matplotlib.pyplot as plt\n",
    "\n",
    "import tensorflow\n",
    "from tensorflow import keras\n",
    "from keras.preprocessing.image import ImageDataGenerator"
   ]
  },
  {
   "cell_type": "code",
   "execution_count": 6,
   "metadata": {},
   "outputs": [
    {
     "name": "stdout",
     "output_type": "stream",
     "text": [
      "2.12.0\n",
      "Num GPUs Available:  0\n"
     ]
    }
   ],
   "source": [
    "import tensorflow as tf\n",
    "print(tf.__version__)\n",
    "print(\"Num GPUs Available: \", len(tensorflow.config.list_physical_devices('GPU')))"
   ]
  },
  {
   "cell_type": "code",
   "execution_count": 7,
   "metadata": {
    "id": "CAGWAM2O8S5G"
   },
   "outputs": [],
   "source": [
    "train_path = r'Data\\train'\n",
    "val_path = r'Data\\val'\n",
    "test_path = r'Data\\test'"
   ]
  },
  {
   "cell_type": "code",
   "execution_count": 8,
   "metadata": {
    "colab": {
     "base_uri": "https://localhost:8080/"
    },
    "id": "wJChpzKKIMOS",
    "outputId": "2a8ef546-2b96-404e-f0b1-6e6b449ee297"
   },
   "outputs": [
    {
     "name": "stdout",
     "output_type": "stream",
     "text": [
      "Found 2354 images belonging to 3 classes.\n",
      "Found 295 images belonging to 3 classes.\n",
      "Found 293 images belonging to 3 classes.\n"
     ]
    }
   ],
   "source": [
    "from keras.preprocessing.image import ImageDataGenerator\n",
    "\n",
    "train_aug = ImageDataGenerator(\n",
    "    horizontal_flip=True,\n",
    "    width_shift_range=0.05,\n",
    "    height_shift_range=0.05,\n",
    "    zoom_range=0.05,\n",
    "    rescale = 1./255,\n",
    "    preprocessing_function=tensorflow.keras.applications.vgg16.preprocess_input\n",
    ")\n",
    "\n",
    "test_aug = ImageDataGenerator(\n",
    "    rescale = 1./255,\n",
    "    preprocessing_function=tensorflow.keras.applications.vgg16.preprocess_input\n",
    ")\n",
    "\n",
    "train_generator= train_aug.flow_from_directory(\n",
    "    train_path,\n",
    "    batch_size=16,\n",
    "    color_mode=\"rgb\",\n",
    "    target_size = (224, 224),\n",
    "    class_mode=\"categorical\")\n",
    "\n",
    "val_generator= test_aug.flow_from_directory(\n",
    "    val_path,\n",
    "    batch_size=16,\n",
    "    color_mode=\"rgb\",\n",
    "    target_size = (224, 224),\n",
    "    class_mode=\"categorical\")\n",
    "\n",
    "test_generator= test_aug.flow_from_directory(\n",
    "    test_path,\n",
    "    color_mode=\"rgb\",\n",
    "    batch_size=16,\n",
    "    shuffle = False,\n",
    "    target_size = (224, 224),\n",
    "    class_mode=\"categorical\")\n",
    "\n",
    "num_classes = 3"
   ]
  },
  {
   "cell_type": "code",
   "execution_count": 9,
   "metadata": {
    "id": "B0UNVMQ30PoZ"
   },
   "outputs": [],
   "source": [
    "import itertools\n",
    "import sklearn\n",
    "from sklearn.model_selection import train_test_split\n",
    "from sklearn.utils import class_weight\n",
    "from sklearn.preprocessing import LabelBinarizer\n",
    "from sklearn.metrics import roc_curve, auc, roc_auc_score, confusion_matrix, classification_report\n",
    "\n",
    "def plot_loss(history):\n",
    "    plt.plot(history.history['loss'])\n",
    "    plt.plot(history.history['val_loss'])\n",
    "    plt.title('model loss')\n",
    "    plt.ylabel('loss')\n",
    "    plt.xlabel('epoch')\n",
    "    plt.legend(['train', 'val'], loc='upper left')\n",
    "\n",
    "def plot_acc(history):\n",
    "    plt.plot(history.history['accuracy'])\n",
    "    plt.plot(history.history['val_accuracy'])\n",
    "    plt.title('model accuracy')\n",
    "    plt.ylabel('accuracy')\n",
    "    plt.xlabel('epoch')\n",
    "    plt.legend(['train', 'val'], loc='upper left')\n",
    "\n",
    "# It prints & plots the confusion matrix, normalization can be applied by setting normalize=True.\n",
    "\n",
    "def plot_confusion_matrix(cm, classes,normalize=False,title='Confusion matrix',cmap=plt.cm.Blues):\n",
    "\n",
    "    plt.figure(figsize = (5,5))\n",
    "    plt.imshow(cm, interpolation='nearest', cmap=cmap)\n",
    "    plt.title(title)\n",
    "    plt.colorbar()\n",
    "    tick_marks = np.arange(len(classes))\n",
    "    plt.xticks(tick_marks, classes, rotation=90)\n",
    "    plt.yticks(tick_marks, classes)\n",
    "    if normalize:\n",
    "        cm = cm.astype('float') / cm.sum(axis=1)[:, np.newaxis]\n",
    "\n",
    "    thresh = cm.max() / 2.\n",
    "    for i, j in itertools.product(range(cm.shape[0]), range(cm.shape[1])):\n",
    "        plt.text(j, i, cm[i, j],\n",
    "                 horizontalalignment=\"center\",\n",
    "                 color=\"white\" if cm[i, j] > thresh else \"black\")\n",
    "    plt.tight_layout()\n",
    "    plt.ylabel('True label')\n",
    "    plt.xlabel('Predicted label')\n",
    "\n",
    "def evaluate_model(model, history, test_generator):\n",
    "    # Evaluate model\n",
    "    score = model.evaluate(test_generator, verbose=0)\n",
    "    print('\\nTest set accuracy:', score[1], '\\n')\n",
    "\n",
    "    y_true = np.array(test_generator.labels)\n",
    "    y_pred = model.predict(test_generator, verbose = 1)\n",
    "    y_pred_classes = np.argmax(y_pred,axis = 1)\n",
    "    class_labels = list(test_generator.class_indices.keys())\n",
    "\n",
    "    print('\\n', sklearn.metrics.classification_report(y_true, y_pred_classes, target_names=class_labels), sep='')\n",
    "    confusion_mtx = confusion_matrix(y_true, y_pred_classes)\n",
    "    plot_acc(history)\n",
    "    plt.show()\n",
    "    plot_loss(history)\n",
    "    plt.show()\n",
    "    plot_confusion_matrix(confusion_mtx, classes = class_labels)\n",
    "    plt.show()"
   ]
  },
  {
   "cell_type": "code",
   "execution_count": 7,
   "metadata": {
    "colab": {
     "base_uri": "https://localhost:8080/"
    },
    "id": "4sV6zGWpJy8-",
    "outputId": "b11a2db2-3988-4056-a18c-84f6aeaadf63"
   },
   "outputs": [
    {
     "name": "stdout",
     "output_type": "stream",
     "text": [
      "Epoch 1/10\n",
      "50/50 [==============================] - 83s 2s/step - loss: 0.9905 - accuracy: 0.5852 - val_loss: 0.3999 - val_accuracy: 0.8339\n",
      "Epoch 2/10\n",
      "50/50 [==============================] - 85s 2s/step - loss: 0.2963 - accuracy: 0.8925 - val_loss: 0.1969 - val_accuracy: 0.9424\n",
      "Epoch 3/10\n",
      "50/50 [==============================] - 84s 2s/step - loss: 0.1956 - accuracy: 0.9225 - val_loss: 0.3408 - val_accuracy: 0.8576\n",
      "Epoch 4/10\n",
      "50/50 [==============================] - 85s 2s/step - loss: 0.1633 - accuracy: 0.9463 - val_loss: 0.1269 - val_accuracy: 0.9525\n",
      "Epoch 5/10\n",
      "50/50 [==============================] - 83s 2s/step - loss: 0.1355 - accuracy: 0.9504 - val_loss: 0.1441 - val_accuracy: 0.9356\n",
      "Epoch 6/10\n",
      "50/50 [==============================] - 84s 2s/step - loss: 0.1430 - accuracy: 0.9463 - val_loss: 0.2011 - val_accuracy: 0.9051\n",
      "Epoch 7/10\n",
      "50/50 [==============================] - 84s 2s/step - loss: 0.1150 - accuracy: 0.9644 - val_loss: 0.1857 - val_accuracy: 0.9220\n",
      "Epoch 8/10\n",
      "50/50 [==============================] - 84s 2s/step - loss: 0.0918 - accuracy: 0.9638 - val_loss: 0.2985 - val_accuracy: 0.9017\n",
      "Epoch 9/10\n",
      "50/50 [==============================] - 86s 2s/step - loss: 0.1328 - accuracy: 0.9488 - val_loss: 0.2202 - val_accuracy: 0.9153\n",
      "Epoch 10/10\n",
      "50/50 [==============================] - 86s 2s/step - loss: 0.0517 - accuracy: 0.9850 - val_loss: 0.0578 - val_accuracy: 0.9831\n",
      "\n",
      "Test set accuracy: 0.9658703207969666 \n",
      "\n",
      "19/19 [==============================] - 15s 770ms/step\n",
      "\n",
      "                     precision    recall  f1-score   support\n",
      "\n",
      " Wheat___Brown_Rust       0.92      0.99      0.95        90\n",
      "    Wheat___Healthy       0.98      0.99      0.99       111\n",
      "Wheat___Yellow_Rust       1.00      0.91      0.95        92\n",
      "\n",
      "           accuracy                           0.97       293\n",
      "          macro avg       0.97      0.96      0.96       293\n",
      "       weighted avg       0.97      0.97      0.97       293\n",
      "\n"
     ]
    },
    {
     "data": {
      "text/plain": [
       "<Figure size 640x480 with 1 Axes>"
      ]
     },
     "metadata": {},
     "output_type": "display_data"
    },
    {
     "data": {
      "text/plain": [
       "<Figure size 500x500 with 2 Axes>"
      ]
     },
     "metadata": {},
     "output_type": "display_data"
    }
   ],
   "source": [
    "# VGG16\n",
    "\n",
    "base_model = tensorflow.keras.applications.vgg16.VGG16(\n",
    "    weights = 'imagenet',\n",
    "    include_top=False,\n",
    "    input_shape=(224, 224, 3) # Topless\n",
    "    )\n",
    "\n",
    "#comparing transfer learning methods, keeping the output layers the same allows for a closer understanding of the differences\n",
    "x = base_model.output\n",
    "x = keras.layers.Flatten()(x)\n",
    "x = keras.layers.Dense(4096)(x)\n",
    "x = keras.layers.ReLU()(x)\n",
    "x = keras.layers.Dropout(0.5)(x)\n",
    "x = keras.layers.Dense(4096)(x)\n",
    "x = keras.layers.ReLU()(x)\n",
    "x = keras.layers.Dropout(0.5)(x)\n",
    "predictions = keras.layers.Dense(num_classes, activation='softmax')(x)\n",
    "vgg_model = keras.models.Model(inputs=base_model.input, outputs=predictions)\n",
    "\n",
    "#To compare pre-trained models accurately,\n",
    "#train by freezing all parts up to the third-to-last layer.\n",
    "#Freezing Convolutional Base\n",
    "for layer in base_model.layers[:-3]:\n",
    "    layer.trainable = False\n",
    "\n",
    "import random\n",
    "best_model_save = tensorflow.keras.callbacks.ModelCheckpoint(\n",
    "    'VGG16_BestModel' + str(random.randint(0,100000)) + '.hdf5',\n",
    "    monitor='val_accuracy',\n",
    "    verbose=0,\n",
    "    save_best_only=True,\n",
    "    save_weights_only=False,\n",
    "    mode='max',\n",
    "    save_freq='epoch',\n",
    ")\n",
    "\n",
    "metrics = ['accuracy']\n",
    "\n",
    "vgg_model.compile(loss='categorical_crossentropy',\n",
    "              optimizer= tensorflow.keras.optimizers.SGD(learning_rate=0.001, momentum=0.9), # tensorflow.keras.optimizers.RMSprop(learning_rate=1e-5)\n",
    "              metrics=metrics)\n",
    "\n",
    "vgg_history = vgg_model.fit(\n",
    "      train_generator,\n",
    "      epochs=10,\n",
    "      steps_per_epoch = 50, # batach_size * steps_per_epoch should equal to train data size\n",
    "      validation_data = val_generator,\n",
    "      callbacks = [best_model_save]\n",
    "      )\n",
    "\n",
    "evaluate_model(vgg_model, vgg_history, test_generator)"
   ]
  },
  {
   "cell_type": "code",
   "execution_count": 9,
   "metadata": {
    "colab": {
     "base_uri": "https://localhost:8080/",
     "height": 1000
    },
    "id": "Hv7VVOIZ3XNB",
    "outputId": "ac5d7d33-f158-4c53-e972-e9705a01c212"
   },
   "outputs": [
    {
     "name": "stdout",
     "output_type": "stream",
     "text": [
      "Epoch 1/10\n",
      "50/50 [==============================] - 62s 1s/step - loss: 3.3809 - accuracy: 0.5600 - val_loss: 1.1635 - val_accuracy: 0.7831\n",
      "Epoch 2/10\n",
      "50/50 [==============================] - 60s 1s/step - loss: 2.3133 - accuracy: 0.7225 - val_loss: 0.8468 - val_accuracy: 0.8305\n",
      "Epoch 3/10\n",
      "50/50 [==============================] - 57s 1s/step - loss: 3.3299 - accuracy: 0.7710 - val_loss: 5.3577 - val_accuracy: 0.5559\n",
      "Epoch 4/10\n",
      "50/50 [==============================] - 58s 1s/step - loss: 1.7936 - accuracy: 0.7900 - val_loss: 0.5889 - val_accuracy: 0.8373\n",
      "Epoch 5/10\n",
      "50/50 [==============================] - 55s 1s/step - loss: 0.6062 - accuracy: 0.8690 - val_loss: 1.2578 - val_accuracy: 0.7356\n",
      "Epoch 6/10\n",
      "50/50 [==============================] - 56s 1s/step - loss: 0.8248 - accuracy: 0.8313 - val_loss: 0.2967 - val_accuracy: 0.8814\n",
      "Epoch 7/10\n",
      "50/50 [==============================] - 56s 1s/step - loss: 0.4418 - accuracy: 0.8750 - val_loss: 0.2614 - val_accuracy: 0.9119\n",
      "Epoch 8/10\n",
      "50/50 [==============================] - 54s 1s/step - loss: 0.2232 - accuracy: 0.9186 - val_loss: 0.3612 - val_accuracy: 0.8814\n",
      "Epoch 9/10\n",
      "50/50 [==============================] - 57s 1s/step - loss: 0.2704 - accuracy: 0.9125 - val_loss: 0.2063 - val_accuracy: 0.9322\n",
      "Epoch 10/10\n",
      "50/50 [==============================] - 55s 1s/step - loss: 0.2785 - accuracy: 0.9162 - val_loss: 0.3060 - val_accuracy: 0.8983\n",
      "\n",
      "Test set accuracy: 0.9078498482704163 \n",
      "\n",
      "19/19 [==============================] - 6s 293ms/step\n",
      "\n",
      "                     precision    recall  f1-score   support\n",
      "\n",
      " Wheat___Brown_Rust       0.77      1.00      0.87        90\n",
      "    Wheat___Healthy       1.00      0.93      0.96       111\n",
      "Wheat___Yellow_Rust       1.00      0.79      0.88        92\n",
      "\n",
      "           accuracy                           0.91       293\n",
      "          macro avg       0.92      0.91      0.91       293\n",
      "       weighted avg       0.93      0.91      0.91       293\n",
      "\n"
     ]
    },
    {
     "data": {
      "text/plain": [
       "<Figure size 640x480 with 1 Axes>"
      ]
     },
     "metadata": {},
     "output_type": "display_data"
    },
    {
     "data": {
      "text/plain": [
       "<Figure size 640x480 with 1 Axes>"
      ]
     },
     "metadata": {},
     "output_type": "display_data"
    },
    {
     "data": {
      "text/plain": [
       "<Figure size 500x500 with 2 Axes>"
      ]
     },
     "metadata": {},
     "output_type": "display_data"
    }
   ],
   "source": [
    "# INCEPTION V3\n",
    "\n",
    "base_model = tensorflow.keras.applications.InceptionV3(\n",
    "    weights = 'imagenet',\n",
    "    include_top=False,\n",
    "    input_shape=(229, 229, 3) # Topless\n",
    "    )\n",
    "\n",
    "#comparing transfer learning methods, keeping the output layers the same allows for a closer understanding of the differences\n",
    "x = base_model.output\n",
    "x = keras.layers.Flatten()(x)\n",
    "x = keras.layers.Dense(4096)(x)\n",
    "x = keras.layers.ReLU()(x)\n",
    "x = keras.layers.Dropout(0.5)(x)\n",
    "x = keras.layers.Dense(4096)(x)\n",
    "x = keras.layers.ReLU()(x)\n",
    "x = keras.layers.Dropout(0.5)(x)\n",
    "predictions = keras.layers.Dense(num_classes, activation='softmax')(x)\n",
    "inception_model = keras.models.Model(inputs=base_model.input, outputs=predictions)\n",
    "\n",
    "#To compare pre-trained models accurately,\n",
    "#train by freezing all parts up to the third-to-last layer.\n",
    "#Freezing Convolutional Base\n",
    "for layer in base_model.layers[:-3]:\n",
    "    layer.trainable = False\n",
    "    \n",
    "import random\n",
    "best_model_save = tensorflow.keras.callbacks.ModelCheckpoint(\n",
    "    'InceptionV3' + str(random.randint(0,100000)) + '.hdf5',\n",
    "    monitor='val_accuracy',\n",
    "    verbose=0,\n",
    "    save_best_only=True,\n",
    "    save_weights_only=False,\n",
    "    mode='max',\n",
    "    save_freq='epoch',\n",
    ")\n",
    "\n",
    "metrics = ['accuracy']\n",
    "\n",
    "inception_model.compile(loss='categorical_crossentropy',\n",
    "              optimizer= tensorflow.keras.optimizers.SGD(learning_rate=0.001, momentum=0.9), # tensorflow.keras.optimizers.RMSprop(learning_rate=1e-5)\n",
    "              metrics=metrics)\n",
    "\n",
    "inception_history = inception_model.fit(\n",
    "      train_generator,\n",
    "      epochs=10,\n",
    "      steps_per_epoch = 50,\n",
    "      validation_data = val_generator,\n",
    "      callbacks = [best_model_save]\n",
    "      )\n",
    "\n",
    "evaluate_model(inception_model, inception_history, test_generator)"
   ]
  },
  {
   "cell_type": "code",
   "execution_count": 10,
   "metadata": {
    "id": "tLrzzqrsbH20"
   },
   "outputs": [
    {
     "name": "stdout",
     "output_type": "stream",
     "text": [
      "Downloading data from https://storage.googleapis.com/tensorflow/keras-applications/resnet/resnet50_weights_tf_dim_ordering_tf_kernels_notop.h5\n",
      "94765736/94765736 [==============================] - 9s 0us/step\n",
      "Epoch 1/10\n",
      "50/50 [==============================] - 150s 3s/step - loss: 3.8838 - accuracy: 0.5838 - val_loss: 2.6218 - val_accuracy: 0.3797\n",
      "Epoch 2/10\n",
      "50/50 [==============================] - 148s 3s/step - loss: 1.6770 - accuracy: 0.6825 - val_loss: 1.0953 - val_accuracy: 0.5898\n",
      "Epoch 3/10\n",
      "50/50 [==============================] - 142s 3s/step - loss: 0.9077 - accuracy: 0.7500 - val_loss: 1.2734 - val_accuracy: 0.5695\n",
      "Epoch 4/10\n",
      "50/50 [==============================] - 148s 3s/step - loss: 0.6137 - accuracy: 0.7713 - val_loss: 0.6301 - val_accuracy: 0.7254\n",
      "Epoch 5/10\n",
      "50/50 [==============================] - 141s 3s/step - loss: 0.7795 - accuracy: 0.7583 - val_loss: 2.1404 - val_accuracy: 0.5390\n",
      "Epoch 6/10\n",
      "50/50 [==============================] - 147s 3s/step - loss: 1.0818 - accuracy: 0.7237 - val_loss: 0.5130 - val_accuracy: 0.8102\n",
      "Epoch 7/10\n",
      "50/50 [==============================] - 141s 3s/step - loss: 0.7717 - accuracy: 0.7545 - val_loss: 0.5134 - val_accuracy: 0.7966\n",
      "Epoch 8/10\n",
      "50/50 [==============================] - 141s 3s/step - loss: 0.5783 - accuracy: 0.7964 - val_loss: 0.5236 - val_accuracy: 0.7627\n",
      "Epoch 9/10\n",
      "50/50 [==============================] - 142s 3s/step - loss: 0.4782 - accuracy: 0.8188 - val_loss: 0.4469 - val_accuracy: 0.8000\n",
      "Epoch 10/10\n",
      "50/50 [==============================] - 142s 3s/step - loss: 0.4616 - accuracy: 0.8025 - val_loss: 0.5751 - val_accuracy: 0.7695\n",
      "\n",
      "Test set accuracy: 0.8395904302597046 \n",
      "\n",
      "19/19 [==============================] - 13s 656ms/step\n",
      "\n",
      "                     precision    recall  f1-score   support\n",
      "\n",
      " Wheat___Brown_Rust       0.88      0.71      0.79        90\n",
      "    Wheat___Healthy       1.00      0.84      0.91       111\n",
      "Wheat___Yellow_Rust       0.70      0.97      0.81        92\n",
      "\n",
      "           accuracy                           0.84       293\n",
      "          macro avg       0.86      0.84      0.84       293\n",
      "       weighted avg       0.87      0.84      0.84       293\n",
      "\n"
     ]
    },
    {
     "data": {
      "text/plain": [
       "<Figure size 640x480 with 1 Axes>"
      ]
     },
     "metadata": {},
     "output_type": "display_data"
    },
    {
     "data": {
      "text/plain": [
       "<Figure size 640x480 with 1 Axes>"
      ]
     },
     "metadata": {},
     "output_type": "display_data"
    },
    {
     "data": {
      "text/plain": [
       "<Figure size 500x500 with 2 Axes>"
      ]
     },
     "metadata": {},
     "output_type": "display_data"
    }
   ],
   "source": [
    "# RESNET50\n",
    "\n",
    "base_model = tensorflow.keras.applications.ResNet50(\n",
    "    weights = 'imagenet',\n",
    "    include_top=False,\n",
    "    input_shape=(200, 200, 3) # Topless\n",
    "    ) \n",
    "\n",
    "#comparing transfer learning methods, keeping the output layers the same allows for a closer understanding of the differences\n",
    "x = base_model.output\n",
    "x = keras.layers.Flatten()(x)\n",
    "x = keras.layers.Dense(4096)(x)\n",
    "x = keras.layers.ReLU()(x)\n",
    "x = keras.layers.Dropout(0.5)(x)\n",
    "x = keras.layers.Dense(4096)(x)\n",
    "x = keras.layers.ReLU()(x)\n",
    "x = keras.layers.Dropout(0.5)(x)\n",
    "predictions = keras.layers.Dense(num_classes, activation='softmax')(x)\n",
    "resnet_model = keras.models.Model(inputs=base_model.input, outputs=predictions)\n",
    "\n",
    "#To compare pre-trained models accurately,\n",
    "#train by freezing all parts up to the third-to-last layer.\n",
    "#Freezing Convolutional Base\n",
    "for layer in base_model.layers[:-30]:\n",
    "    layer.trainable = False\n",
    "\n",
    "import random\n",
    "best_model_save = tensorflow.keras.callbacks.ModelCheckpoint(\n",
    "    'Resnet50' + str(random.randint(0,100000)) + '.h5',\n",
    "    monitor='val_accuracy',\n",
    "    verbose=0,\n",
    "    save_best_only=True,\n",
    "    save_weights_only=False,\n",
    "    mode='max',\n",
    "    save_freq='epoch',\n",
    ")\n",
    "\n",
    "metrics = ['accuracy']\n",
    "\n",
    "resnet_model.compile(loss='categorical_crossentropy',\n",
    "              optimizer= tensorflow.keras.optimizers.SGD(learning_rate=0.001, momentum=0.9), # tensorflow.keras.optimizers.RMSprop(learning_rate=1e-5)\n",
    "              metrics=metrics)\n",
    "\n",
    "resnet_history = resnet_model.fit(\n",
    "      train_generator,\n",
    "      epochs=10,\n",
    "      steps_per_epoch = 50,\n",
    "      validation_data = val_generator,\n",
    "      callbacks = [best_model_save]\n",
    "      )\n",
    "\n",
    "evaluate_model(resnet_model, resnet_history, test_generator)"
   ]
  },
  {
   "cell_type": "code",
   "execution_count": 26,
   "metadata": {},
   "outputs": [
    {
     "name": "stdout",
     "output_type": "stream",
     "text": [
      "Model: \"model_3\"\n",
      "_________________________________________________________________\n",
      " Layer (type)                Output Shape              Param #   \n",
      "=================================================================\n",
      " input_4 (InputLayer)        [(None, 224, 224, 3)]     0         \n",
      "                                                                 \n",
      " conv2d_27 (Conv2D)          (None, 222, 222, 64)      1792      \n",
      "                                                                 \n",
      " conv2d_28 (Conv2D)          (None, 220, 220, 64)      36928     \n",
      "                                                                 \n",
      " conv2d_29 (Conv2D)          (None, 218, 218, 64)      36928     \n",
      "                                                                 \n",
      " max_pooling2d_9 (MaxPooling  (None, 109, 109, 64)     0         \n",
      " 2D)                                                             \n",
      "                                                                 \n",
      " dropout_15 (Dropout)        (None, 109, 109, 64)      0         \n",
      "                                                                 \n",
      " conv2d_30 (Conv2D)          (None, 107, 107, 128)     73856     \n",
      "                                                                 \n",
      " conv2d_31 (Conv2D)          (None, 105, 105, 128)     147584    \n",
      "                                                                 \n",
      " conv2d_32 (Conv2D)          (None, 103, 103, 128)     147584    \n",
      "                                                                 \n",
      " max_pooling2d_10 (MaxPoolin  (None, 51, 51, 128)      0         \n",
      " g2D)                                                            \n",
      "                                                                 \n",
      " dropout_16 (Dropout)        (None, 51, 51, 128)       0         \n",
      "                                                                 \n",
      " conv2d_33 (Conv2D)          (None, 49, 49, 256)       295168    \n",
      "                                                                 \n",
      " conv2d_34 (Conv2D)          (None, 47, 47, 256)       590080    \n",
      "                                                                 \n",
      " conv2d_35 (Conv2D)          (None, 45, 45, 256)       590080    \n",
      "                                                                 \n",
      " max_pooling2d_11 (MaxPoolin  (None, 22, 22, 256)      0         \n",
      " g2D)                                                            \n",
      "                                                                 \n",
      " dropout_17 (Dropout)        (None, 22, 22, 256)       0         \n",
      "                                                                 \n",
      " flatten_3 (Flatten)         (None, 123904)            0         \n",
      "                                                                 \n",
      " dense_9 (Dense)             (None, 4096)              507514880 \n",
      "                                                                 \n",
      " re_lu_6 (ReLU)              (None, 4096)              0         \n",
      "                                                                 \n",
      " dropout_18 (Dropout)        (None, 4096)              0         \n",
      "                                                                 \n",
      " dense_10 (Dense)            (None, 4096)              16781312  \n",
      "                                                                 \n",
      " re_lu_7 (ReLU)              (None, 4096)              0         \n",
      "                                                                 \n",
      " dropout_19 (Dropout)        (None, 4096)              0         \n",
      "                                                                 \n",
      " dense_11 (Dense)            (None, 3)                 12291     \n",
      "                                                                 \n",
      "=================================================================\n",
      "Total params: 526,228,483\n",
      "Trainable params: 526,228,483\n",
      "Non-trainable params: 0\n",
      "_________________________________________________________________\n",
      "None\n",
      "Epoch 1/10\n",
      "50/50 [==============================] - 277s 6s/step - loss: 1.0950 - accuracy: 0.3562 - val_loss: 1.0869 - val_accuracy: 0.3797\n",
      "Epoch 2/10\n",
      "50/50 [==============================] - 269s 5s/step - loss: 1.0787 - accuracy: 0.3688 - val_loss: 1.0592 - val_accuracy: 0.3797\n",
      "Epoch 3/10\n",
      "50/50 [==============================] - 278s 6s/step - loss: 1.0246 - accuracy: 0.4050 - val_loss: 0.9609 - val_accuracy: 0.5492\n",
      "Epoch 4/10\n",
      "50/50 [==============================] - 261s 5s/step - loss: 0.9020 - accuracy: 0.5312 - val_loss: 0.9069 - val_accuracy: 0.6475\n",
      "Epoch 5/10\n",
      "50/50 [==============================] - 247s 5s/step - loss: 0.8018 - accuracy: 0.6300 - val_loss: 0.7451 - val_accuracy: 0.6339\n",
      "Epoch 6/10\n",
      "50/50 [==============================] - 251s 5s/step - loss: 0.7527 - accuracy: 0.6375 - val_loss: 0.5020 - val_accuracy: 0.8102\n",
      "Epoch 7/10\n",
      "50/50 [==============================] - 251s 5s/step - loss: 0.6730 - accuracy: 0.7063 - val_loss: 0.4466 - val_accuracy: 0.8136\n",
      "Epoch 8/10\n",
      "50/50 [==============================] - 245s 5s/step - loss: 0.5243 - accuracy: 0.7887 - val_loss: 0.4955 - val_accuracy: 0.7729\n",
      "Epoch 9/10\n",
      "50/50 [==============================] - 246s 5s/step - loss: 0.7245 - accuracy: 0.6875 - val_loss: 0.5809 - val_accuracy: 0.7322\n",
      "Epoch 10/10\n",
      "50/50 [==============================] - 253s 5s/step - loss: 0.5454 - accuracy: 0.7570 - val_loss: 0.3931 - val_accuracy: 0.8305\n",
      "\n",
      "Test set accuracy: 0.8191125988960266 \n",
      "\n",
      "19/19 [==============================] - 13s 674ms/step\n",
      "\n",
      "                     precision    recall  f1-score   support\n",
      "\n",
      " Wheat___Brown_Rust       0.69      0.87      0.77        90\n",
      "    Wheat___Healthy       0.96      0.99      0.97       111\n",
      "Wheat___Yellow_Rust       0.80      0.57      0.66        92\n",
      "\n",
      "           accuracy                           0.82       293\n",
      "          macro avg       0.82      0.81      0.80       293\n",
      "       weighted avg       0.83      0.82      0.81       293\n",
      "\n"
     ]
    },
    {
     "data": {
      "text/plain": [
       "<Figure size 640x480 with 1 Axes>"
      ]
     },
     "metadata": {},
     "output_type": "display_data"
    },
    {
     "data": {
      "text/plain": [
       "<Figure size 640x480 with 1 Axes>"
      ]
     },
     "metadata": {},
     "output_type": "display_data"
    },
    {
     "data": {
      "text/plain": [
       "<Figure size 500x500 with 2 Axes>"
      ]
     },
     "metadata": {},
     "output_type": "display_data"
    }
   ],
   "source": [
    "import keras\n",
    "from keras.layers import Activation\n",
    "from keras.models import Model, Sequential\n",
    "\n",
    "inputs = keras.layers.Input((224, 224, 3))\n",
    "x = keras.layers.Conv2D(64, (3,3), activation = 'relu')(inputs)\n",
    "x = keras.layers.Conv2D(64, (3,3), activation = 'relu')(x)\n",
    "x = keras.layers.Conv2D(64, (3,3), activation = 'relu')(x)\n",
    "x = keras.layers.MaxPooling2D(pool_size = (2, 2))(x)\n",
    "x = keras.layers.Dropout(0.3)(x)\n",
    "x = keras.layers.Conv2D(128, (3,3), activation = 'relu')(x)\n",
    "x = keras.layers.Conv2D(128, (3,3), activation = 'relu')(x)\n",
    "x = keras.layers.Conv2D(128, (3,3), activation = 'relu')(x)\n",
    "x = keras.layers.MaxPooling2D(pool_size = (2, 2))(x)\n",
    "x = keras.layers.Dropout(0.3)(x)\n",
    "x = keras.layers.Conv2D(256, (3,3), activation = 'relu')(x)\n",
    "x = keras.layers.Conv2D(256, (3,3), activation = 'relu')(x)\n",
    "x = keras.layers.Conv2D(256, (3,3), activation = 'relu')(x)\n",
    "x = keras.layers.MaxPooling2D(pool_size = (2, 2))(x)\n",
    "x = keras.layers.Dropout(0.3)(x)\n",
    "x = keras.layers.Flatten()(x)\n",
    "x = keras.layers.Dense(4096)(x)\n",
    "x = keras.layers.ReLU()(x)\n",
    "x = keras.layers.Dropout(0.5)(x)\n",
    "x = keras.layers.Dense(4096)(x)\n",
    "x = keras.layers.ReLU()(x)\n",
    "x = keras.layers.Dropout(0.5)(x)\n",
    "x = keras.layers.Dense(3, activation = \"softmax\")(x)\n",
    "CNNmodel = Model(inputs = inputs, outputs = x)\n",
    "print(CNNmodel.summary())\n",
    "\n",
    "for layer in CNNmodel.layers:\n",
    "    layer.trainable = True\n",
    "\n",
    "import random\n",
    "best_model_save = tensorflow.keras.callbacks.ModelCheckpoint(\n",
    "    'CNN' + str(random.randint(0,100000)) + '.h5',\n",
    "    monitor='val_accuracy',\n",
    "    verbose=0,\n",
    "    save_best_only=True,\n",
    "    save_weights_only=False,\n",
    "    mode='max',\n",
    "    save_freq='epoch',\n",
    ")\n",
    "\n",
    "metrics = ['accuracy']\n",
    "\n",
    "CNNmodel.compile(loss='categorical_crossentropy',\n",
    "              optimizer= tensorflow.keras.optimizers.SGD(learning_rate=0.001, momentum=0.9), # tensorflow.keras.optimizers.RMSprop(learning_rate=1e-5)\n",
    "              metrics=metrics)\n",
    "\n",
    "cnn_history = CNNmodel.fit(\n",
    "      train_generator,\n",
    "      epochs=10,\n",
    "      steps_per_epoch = 50,\n",
    "      validation_data = val_generator,\n",
    "      callbacks = [best_model_save]\n",
    "      )\n",
    "\n",
    "evaluate_model(CNNmodel, cnn_history, test_generator)"
   ]
  },
  {
   "cell_type": "code",
   "execution_count": null,
   "metadata": {},
   "outputs": [],
   "source": []
  }
 ],
 "metadata": {
  "accelerator": "TPU",
  "colab": {
   "provenance": []
  },
  "kernelspec": {
   "display_name": "Python 3 (ipykernel)",
   "language": "python",
   "name": "python3"
  },
  "language_info": {
   "codemirror_mode": {
    "name": "ipython",
    "version": 3
   },
   "file_extension": ".py",
   "mimetype": "text/x-python",
   "name": "python",
   "nbconvert_exporter": "python",
   "pygments_lexer": "ipython3",
   "version": "3.10.4"
  }
 },
 "nbformat": 4,
 "nbformat_minor": 4
}
