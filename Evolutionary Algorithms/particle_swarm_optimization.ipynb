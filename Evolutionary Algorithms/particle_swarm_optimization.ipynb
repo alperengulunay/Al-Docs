{
 "cells": [
  {
   "cell_type": "code",
   "execution_count": 125,
   "metadata": {},
   "outputs": [],
   "source": [
    "# Particle swarm optimization for f(x) = sin(x)+sin((10/3)*x) in [-10, 10]"
   ]
  },
  {
   "cell_type": "code",
   "execution_count": 126,
   "metadata": {},
   "outputs": [],
   "source": [
    "particles_count = 9 \n",
    "iterasyon = 10"
   ]
  },
  {
   "cell_type": "code",
   "execution_count": 127,
   "metadata": {},
   "outputs": [],
   "source": [
    "def func(x):    \n",
    "    return math.sin(x) + math.sin((10/3)*x)"
   ]
  },
  {
   "cell_type": "code",
   "execution_count": 128,
   "metadata": {},
   "outputs": [],
   "source": [
    "def create_particle():\n",
    "    sayı = (rnd.random() * 20) - 10\n",
    "    return sayı\n",
    "\n",
    "def create_initial_particles():\n",
    "    return [create_particle() for x in range(particles_count)]"
   ]
  },
  {
   "cell_type": "code",
   "execution_count": 129,
   "metadata": {},
   "outputs": [],
   "source": [
    "def cal_fitness_max(particle_locs):\n",
    "    temp_fitness = [0 for x in range(particles_count)]\n",
    "    for i in range(particles_count):\n",
    "        temp_fitness[i] = func(particle_locs[i])   \n",
    "    return temp_fitness\n",
    "\n",
    "def cal_fitness_min(particle_locs):\n",
    "    temp_fitness = [0 for x in range(particles_count)]\n",
    "    for i in range(particles_count):\n",
    "        temp_fitness[i] = -func(particle_locs[i])   \n",
    "    return temp_fitness"
   ]
  },
  {
   "cell_type": "code",
   "execution_count": 130,
   "metadata": {},
   "outputs": [],
   "source": [
    "def cal_velocity(particle_loc, velocities, personal_best_loc, global_best_loc):\n",
    "    \n",
    "    temp_velocities = [0 for x in range(particles_count)]\n",
    "    r1 = rnd.uniform(0, 1)\n",
    "    r2 = rnd.uniform(0, 1)\n",
    "    \n",
    "    for i in range(particles_count):\n",
    "        temp_velocities[i] = 1*velocities[i] + 1*r1*(personal_best_loc[i] - particle_loc[i]) + 1*r2*(global_best_loc - particle_loc[i])\n",
    "    \n",
    "    return temp_velocities"
   ]
  },
  {
   "cell_type": "code",
   "execution_count": 135,
   "metadata": {},
   "outputs": [],
   "source": [
    "def clip_for_pso(x):\n",
    "    return max(min(x,10),-10)"
   ]
  },
  {
   "cell_type": "code",
   "execution_count": 136,
   "metadata": {},
   "outputs": [],
   "source": [
    "def pso_main_process(repetition, calculate_fitness_type):\n",
    "    history = []\n",
    "    cal_fitness = calculate_fitness_type\n",
    "    \n",
    "    for i in range(repetition):\n",
    "        particles_locs = create_initial_particles()\n",
    "\n",
    "        velocities = [0 for x in range(particles_count)]\n",
    "        fitness = []\n",
    "        personal_best_loc = [0 for x in range(particles_count)]\n",
    "        personal_best_fit = [-math.inf for x in range(particles_count)]\n",
    "\n",
    "        epok = 0\n",
    "        global_best_fit = -math.inf\n",
    "        global_best_loc = 0\n",
    "        \n",
    "        while(epok < iterasyon):\n",
    "            fitness = cal_fitness(particles_locs)\n",
    "\n",
    "            for i in range(particles_count):\n",
    "                if (personal_best_fit[i] < fitness[i]): \n",
    "                    personal_best_fit[i] = fitness[i]\n",
    "                    personal_best_loc[i] = particles_locs[i]\n",
    "\n",
    "            for i in range(particles_count):\n",
    "                if (global_best_fit < fitness[i]): \n",
    "                    global_best_fit = fitness[i]\n",
    "                    global_best_loc = particles_locs[i]\n",
    "            \n",
    "            history.append(global_best_fit)\n",
    "            print(\"Global, fitness :\", global_best_fit, \"location :\", global_best_loc)\n",
    "            \n",
    "            velocities = cal_velocity(particles_locs, velocities, personal_best_loc, global_best_loc)\n",
    "\n",
    "            for i in range(particles_count):\n",
    "                particles_locs[i] = clip_for_pso( particles_locs[i] + velocities[i] )\n",
    "\n",
    "            epok +=1\n",
    "        if (calculate_fitness_type == cal_fitness_max): print(\"The best solution (maximum) : \", global_best_loc)\n",
    "        else: print(\"The best solution (minimum) : \", global_best_loc)\n",
    "    return history"
   ]
  },
  {
   "cell_type": "code",
   "execution_count": 149,
   "metadata": {
    "scrolled": true
   },
   "outputs": [
    {
     "name": "stdout",
     "output_type": "stream",
     "text": [
      "Global, fitness : 1.356003627983652 location : 0.7072032612474715\n",
      "Global, fitness : 1.356003627983652 location : 0.7072032612474715\n",
      "Global, fitness : 1.3645794692685367 location : 0.7017628047074636\n",
      "Global, fitness : 1.7016491959831193 location : 7.774468405099758\n",
      "Global, fitness : 1.7016491959831193 location : 7.774468405099758\n",
      "Global, fitness : 1.7016491959831193 location : 7.774468405099758\n",
      "Global, fitness : 1.7016491959831193 location : 7.774468405099758\n",
      "Global, fitness : 1.962314723601494 location : 7.931851017781881\n",
      "Global, fitness : 1.962314723601494 location : 7.931851017781881\n",
      "Global, fitness : 1.962314723601494 location : 7.931851017781881\n",
      "En iyi çözüm (maksimum):  7.931851017781881\n",
      "Global, fitness : 1.437083869859593 location : -0.45415660552738046\n",
      "Global, fitness : 1.437083869859593 location : -0.45415660552738046\n",
      "Global, fitness : 1.4872233003277464 location : -0.5635431319902349\n",
      "Global, fitness : 1.586281337199397 location : -2.4516590390505355\n",
      "Global, fitness : 1.726096444417543 location : -2.2765821988414965\n",
      "Global, fitness : 1.726096444417543 location : -2.2765821988414965\n",
      "Global, fitness : 1.726096444417543 location : -2.2765821988414965\n",
      "Global, fitness : 1.7271350177176408 location : -2.2819088421166143\n",
      "Global, fitness : 1.7271350177176408 location : -2.2819088421166143\n",
      "Global, fitness : 1.7271350177176408 location : -2.2819088421166143\n",
      "En iyi çözüm (minimum):  -2.2819088421166143\n"
     ]
    }
   ],
   "source": [
    "history_max_pso = pso_main_process(1, cal_fitness_max)\n",
    "history_min_pso = pso_main_process(1, cal_fitness_min)"
   ]
  },
  {
   "cell_type": "code",
   "execution_count": 150,
   "metadata": {
    "scrolled": true
   },
   "outputs": [
    {
     "data": {
      "image/png": "[encoded data removed]",
      "text/plain": [
       "<Figure size 640x480 with 1 Axes>"
      ]
     },
     "metadata": {},
     "output_type": "display_data"
    }
   ],
   "source": [
    "plt.plot(history_max_pso)\n",
    "plt.show()"
   ]
  },
  {
   "cell_type": "code",
   "execution_count": 151,
   "metadata": {
    "scrolled": true
   },
   "outputs": [
    {
     "data": {
      "image/png": "[encoded data removed]",
      "text/plain": [
       "<Figure size 640x480 with 1 Axes>"
      ]
     },
     "metadata": {},
     "output_type": "display_data"
    }
   ],
   "source": [
    "plt.plot(history_min_pso)\n",
    "plt.show()"
   ]
  }
 ],
 "metadata": {
  "kernelspec": {
   "display_name": "Python 3",
   "language": "python",
   "name": "python3"
  },
  "language_info": {
   "codemirror_mode": {
    "name": "ipython",
    "version": 3
   },
   "file_extension": ".py",
   "mimetype": "text/x-python",
   "name": "python",
   "nbconvert_exporter": "python",
   "pygments_lexer": "ipython3",
   "version": "3.8.3"
  }
 },
 "nbformat": 4,
 "nbformat_minor": 5
}
